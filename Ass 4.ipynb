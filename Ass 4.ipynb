{
 "cells": [
  {
   "cell_type": "code",
   "execution_count": 9,
   "metadata": {},
   "outputs": [
    {
     "name": "stdout",
     "output_type": "stream",
     "text": [
      "Aisha\n",
      "Jakhro\n",
      "19\n",
      "karachi\n",
      "{'first_name': 'Aisha', 'last_name': 'Jakhro', 'age': 19, 'city': 'karachi', 'qualification': 'higher academic level'}\n",
      "{'first_name': 'Aisha', 'last_name': 'Jakhro', 'age': 19, 'city': 'karachi'}\n"
     ]
    }
   ],
   "source": [
    "#Question no 1\n",
    "\n",
    "info = {\n",
    "    \"first_name\" : \"Aisha\",\n",
    "    \"last_name\" : \"Jakhro\",\n",
    "    \"age\" : 19,\n",
    "    \"city\" : \"karachi\"\n",
    "    \n",
    "}\n",
    "print(info[\"first_name\"])\n",
    "print(info[\"last_name\"])\n",
    "print(info[\"age\"])\n",
    "print(info[\"city\"])\n",
    "info.update ({ \"qualification\" : \"higher academic level\"})\n",
    "print(info)\n",
    "del info[\"qualification\"]\n",
    "print(info)"
   ]
  },
  {
   "cell_type": "code",
   "execution_count": 15,
   "metadata": {},
   "outputs": [
    {
     "name": "stdout",
     "output_type": "stream",
     "text": [
      "{'city': 'Karachi', 'country': 'Pakistan', 'population': '14.9m', 'fact': 'City of lights'}\n"
     ]
    }
   ],
   "source": [
    "#question no 2\n",
    "\n",
    "cities = [\n",
    "     {\n",
    "      \"city\" : \"Karachi\",\n",
    "      \"country\" : \"Pakistan\",\n",
    "      \"population\" : \"14.9m\",\n",
    "      \"fact\" : \"City of lights\"\n",
    "        \n",
    "    },\n",
    "  {\n",
    "      \"city\" : \"Lahore\",\n",
    "      \"country\" : \"Pakistan\",\n",
    "      \"population\" : \"11.3m\",\n",
    "      \"fact\" : \"City of Gardens\"\n",
    "        \n",
    "    },\n",
    "   {\n",
    "       \"city\" : \"Islamabad\",\n",
    "      \"country\" : \"Pakistan\",\n",
    "      \"population\" : \"1.0m\",\n",
    "      \"fact\" : \"Capital of PAkistan\"\n",
    "    }\n",
    "]\n",
    "print(cities[0])\n"
   ]
  },
  {
   "cell_type": "code",
   "execution_count": null,
   "metadata": {},
   "outputs": [],
   "source": [
    "\n",
    "\n"
   ]
  }
 ],
 "metadata": {
  "kernelspec": {
   "display_name": "Python 3",
   "language": "python",
   "name": "python3"
  },
  "language_info": {
   "codemirror_mode": {
    "name": "ipython",
    "version": 3
   },
   "file_extension": ".py",
   "mimetype": "text/x-python",
   "name": "python",
   "nbconvert_exporter": "python",
   "pygments_lexer": "ipython3",
   "version": "3.7.1"
  }
 },
 "nbformat": 4,
 "nbformat_minor": 2
}
