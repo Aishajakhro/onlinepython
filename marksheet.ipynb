{
 "cells": [
  {
   "cell_type": "code",
   "execution_count": 1,
   "metadata": {},
   "outputs": [
    {
     "name": "stdout",
     "output_type": "stream",
     "text": [
      "Enter your Marks in eng : 54\n",
      "Enter your Marks in math : 98\n",
      "Enter your Marks in urdu : 78\n",
      "Enter your Marks in sci : 68\n",
      "Enter your Marks in comp : 87\n",
      "Your Obtain Marks are \n",
      "385.0\n",
      "your precentage is : \n",
      "77.0\n",
      "Your grade is A \n"
     ]
    }
   ],
   "source": [
    "eng = float(input(\"Enter your Marks in eng : \"))\n",
    "math = float(input(\"Enter your Marks in math : \"))\n",
    "urdu = float(input(\"Enter your Marks in urdu : \"))\n",
    "sci = float(input(\"Enter your Marks in sci : \"))\n",
    "comp = float(input(\"Enter your Marks in comp : \"))\n",
    "obtain = eng + math + urdu + sci + comp\n",
    "print(\"Your Obtain Marks are \")\n",
    "print(obtain)\n",
    "\n",
    "total = 500\n",
    "per = ( obtain*100 ) /total\n",
    "print(\"your precentage is : \")\n",
    "print(per)\n",
    "\n",
    "if(per >= 80 and per <= 100):\n",
    "    print(\"your grade is A+ \")\n",
    "    \n",
    "elif(per >= 70 and per < 80):\n",
    "    print(\"Your grade is A \")\n",
    "    \n",
    "elif(per >= 60 and per < 70):\n",
    "    print(\"Your grade is B\")\n",
    "    \n",
    "elif(per >= 50 and per < 60):\n",
    "    print(\"Your grade is C \")\n",
    "    \n",
    "elif(per >= 40 and per < 50):\n",
    "    print(\"Your grade is D \")\n",
    "    \n",
    "elif(per < 40):\n",
    "    print(\"You Are fail work Hard\")\n",
    "    \n",
    "else:\n",
    "    print(\"Invalid Numbers\")"
   ]
  },
  {
   "cell_type": "code",
   "execution_count": 2,
   "metadata": {},
   "outputs": [
    {
     "name": "stdout",
     "output_type": "stream",
     "text": [
      "ENter the num to Check it is even or odd 9\n",
      "Number is odd\n"
     ]
    }
   ],
   "source": [
    "a = int(input(\"ENter the num to Check it is even or odd \"))\n",
    "if(a%2 == 0):\n",
    "    print(\"Number is even\")\n",
    "    \n",
    "else:\n",
    "    print(\"Number is odd\")"
   ]
  },
  {
   "cell_type": "code",
   "execution_count": 3,
   "metadata": {},
   "outputs": [
    {
     "name": "stdout",
     "output_type": "stream",
     "text": [
      "11\n"
     ]
    }
   ],
   "source": [
    "a = [1, 1, 2, 3, 5, 8, 13, 21, 34, 55, 89]\n",
    "print(len(a))"
   ]
  },
  {
   "cell_type": "code",
   "execution_count": 4,
   "metadata": {},
   "outputs": [
    {
     "name": "stdout",
     "output_type": "stream",
     "text": [
      "232\n"
     ]
    }
   ],
   "source": [
    "a = [1, 1, 2, 3, 5, 8, 13, 21, 34, 55, 89]\n",
    "print(sum(a))"
   ]
  },
  {
   "cell_type": "code",
   "execution_count": 5,
   "metadata": {},
   "outputs": [
    {
     "name": "stdout",
     "output_type": "stream",
     "text": [
      "89\n",
      "1\n"
     ]
    }
   ],
   "source": [
    "a = [1, 1, 2, 3, 5, 8, 13, 21, 34, 55, 89]\n",
    "print(max(a))\n",
    "print(min(a))"
   ]
  },
  {
   "cell_type": "code",
   "execution_count": 6,
   "metadata": {},
   "outputs": [
    {
     "name": "stdout",
     "output_type": "stream",
     "text": [
      "[1, 1, 2, 3, 5]\n"
     ]
    }
   ],
   "source": [
    "a = [1, 1, 2, 3, 5, 8, 13, 21, 34, 55, 89]\n",
    "print(a[:5])"
   ]
  },
  {
   "cell_type": "code",
   "execution_count": null,
   "metadata": {},
   "outputs": [],
   "source": []
  }
 ],
 "metadata": {
  "kernelspec": {
   "display_name": "Python 3",
   "language": "python",
   "name": "python3"
  },
  "language_info": {
   "codemirror_mode": {
    "name": "ipython",
    "version": 3
   },
   "file_extension": ".py",
   "mimetype": "text/x-python",
   "name": "python",
   "nbconvert_exporter": "python",
   "pygments_lexer": "ipython3",
   "version": "3.7.1"
  }
 },
 "nbformat": 4,
 "nbformat_minor": 2
}
