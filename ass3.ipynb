{
 "cells": [
  {
   "cell_type": "code",
   "execution_count": 12,
   "metadata": {},
   "outputs": [
    {
     "name": "stdout",
     "output_type": "stream",
     "text": [
      "ENter the First value : 5\n",
      "Enter Calculation: 4\n",
      "Enter the operator : +\n",
      "5 + 4 = 9\n"
     ]
    }
   ],
   "source": [
    "num1= input(\"ENter the First value : \") \n",
    "num2 = input(\"Enter Calculation: \")\n",
    "operator = input(\"Enter the operator : \")\n",
    "\n",
    "\n",
    "# Convert the strings into integers\n",
    "num1= int(num1)\n",
    "num2 = int(num2)\n",
    "\n",
    "\n",
    "\n",
    "# if they enter +, -, *, /,** then we need to provide output based on operator\n",
    "\n",
    "if operator == \"+\":\n",
    "    print(\"{} + {} = {}\".format(num1,num2, num1+num2))\n",
    "elif operator == \"-\":\n",
    "    print(\"{} - {} = {}\".format(num1,num2, num1-num2))\n",
    "elif operator == \"*\":\n",
    "    print(\"{} * {} = {}\".format(num1,num2, num1*num2))\n",
    "elif operator == \"/\":\n",
    "    print(\"{} / {} = {}\".format(num1,num2, num1/num2))\n",
    "elif operator == \"**\":\n",
    "    print(\"{} power of {} = {}\".format(num1,num2, num1**num2))\n",
    "        \n",
    "else:\n",
    "    print(\"Syntax error\")\n"
   ]
  },
  {
   "cell_type": "code",
   "execution_count": 2,
   "metadata": {},
   "outputs": [
    {
     "name": "stdout",
     "output_type": "stream",
     "text": [
      "Present,  value = 200\n",
      "Not present\n"
     ]
    }
   ],
   "source": [
    "def checkKey(dict, key): \n",
    "      \n",
    "    if key in dict: \n",
    "        print(\"Present, \", end =\" \") \n",
    "        print(\"value =\", dict[key]) \n",
    "    else: \n",
    "        print(\"Not present\") \n",
    "  \n",
    "# Driver Code \n",
    "dict = {'a': 100, 'b':200, 'c':300} \n",
    "  \n",
    "key = 'b'\n",
    "checkKey(dict, key) \n",
    "  \n",
    "key = 'w'\n",
    "checkKey(dict, key)"
   ]
  },
  {
   "cell_type": "code",
   "execution_count": 3,
   "metadata": {},
   "outputs": [
    {
     "name": "stdout",
     "output_type": "stream",
     "text": [
      "No numeric value\n",
      "No numeric value\n",
      "No numeric value\n",
      "No numeric value\n",
      "Int is present\n",
      "Int is present\n",
      "Int is present\n"
     ]
    }
   ],
   "source": [
    "a = [\"a\",\"b\",\"c\",\"d\",34,34,34.5]\n",
    "\n",
    "for i in a:\n",
    "    try:\n",
    "        if(i.isalpha):\n",
    "            print(\"No numeric value\")\n",
    "        else:\n",
    "            print(\"numeric value present.\")\n",
    "    except AttributeError:\n",
    "        print(\"Int is present\")"
   ]
  },
  {
   "cell_type": "code",
   "execution_count": 4,
   "metadata": {},
   "outputs": [
    {
     "name": "stdout",
     "output_type": "stream",
     "text": [
      "[20, 30, -20, 60]\n"
     ]
    }
   ],
   "source": [
    "def Repeat(x): \n",
    "    _size = len(x) \n",
    "    repeated = [] \n",
    "    for i in range(_size): \n",
    "        k = i + 1\n",
    "        for j in range(k, _size): \n",
    "            if x[i] == x[j] and x[i] not in repeated: \n",
    "                repeated.append(x[i]) \n",
    "    return repeated \n",
    "  \n",
    "# Driver Code \n",
    "list1 = [10, 20, 30, 20, 20, 30, 40,  \n",
    "         50, -20, 60, 60, -20, -20] \n",
    "print (Repeat(list1)) "
   ]
  },
  {
   "cell_type": "code",
   "execution_count": 5,
   "metadata": {},
   "outputs": [
    {
     "name": "stdout",
     "output_type": "stream",
     "text": [
      "Current Dict is:  {'key1': 'geeks', 'key2': 'fill_me'}\n",
      "Updated Dict is:  {'key1': 'geeks', 'key2': 'for', 'key3': 'geeks'}\n"
     ]
    }
   ],
   "source": [
    "dict = {'key1':'geeks', 'key2':'fill_me'} \n",
    "print(\"Current Dict is: \", dict) \n",
    "  \n",
    "# using the subscript notation \n",
    "# Dictionary_Name[New_Key_Name] = New_Key_Value \n",
    "dict['key2'] = 'for'\n",
    "dict['key3'] = 'geeks'\n",
    "print(\"Updated Dict is: \", dict) "
   ]
  },
  {
   "cell_type": "code",
   "execution_count": 6,
   "metadata": {},
   "outputs": [
    {
     "name": "stdout",
     "output_type": "stream",
     "text": [
      "Total sum of values in the dictionary:\n",
      "879\n"
     ]
    }
   ],
   "source": [
    "d={'A':100,'B':540,'C':239}\n",
    "print(\"Total sum of values in the dictionary:\")\n",
    "print(sum(d.values()))"
   ]
  },
  {
   "cell_type": "code",
   "execution_count": null,
   "metadata": {},
   "outputs": [],
   "source": []
  }
 ],
 "metadata": {
  "kernelspec": {
   "display_name": "Python 3",
   "language": "python",
   "name": "python3"
  },
  "language_info": {
   "codemirror_mode": {
    "name": "ipython",
    "version": 3
   },
   "file_extension": ".py",
   "mimetype": "text/x-python",
   "name": "python",
   "nbconvert_exporter": "python",
   "pygments_lexer": "ipython3",
   "version": "3.7.1"
  }
 },
 "nbformat": 4,
 "nbformat_minor": 2
}
